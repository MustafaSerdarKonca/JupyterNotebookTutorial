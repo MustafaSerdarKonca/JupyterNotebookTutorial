{
 "cells": [
  {
   "cell_type": "markdown",
   "metadata": {},
   "source": [
    "# What is Anaconda?"
   ]
  },
  {
   "cell_type": "markdown",
   "metadata": {},
   "source": [
    "**Anaconda** is an integrated python distribution for those who want to use **python** for data science and similar scientific applications. In addition to libraries that are frequently used in data science, artificial intelligence, etc., it also includes tools such as jupiter notebook and spyder. Program **anaconda.org**, you can install it by downloading the appropriate version for your operating system. When you install the anaconda **Python, Jupiter Notebook and Spyder** will also be installed on your system."
   ]
  },
  {
   "cell_type": "markdown",
   "metadata": {},
   "source": [
    "# What is Jupyter Notebook ?"
   ]
  },
  {
   "cell_type": "markdown",
   "metadata": {},
   "source": [
    "**Jupyter Notebook** is an open source program that provides an interactive environment for various programming languages."
   ]
  },
  {
   "cell_type": "markdown",
   "metadata": {},
   "source": [
    "# Why Jupyter Notebook?"
   ]
  },
  {
   "cell_type": "markdown",
   "metadata": {},
   "source": [
    "1. Perfect for a beginner. He can take notes on his own with the codes he has learned and want to practice and observe how it works just below.\n",
    "2. Or, when he needs to prepare a report, he can present it interactively."
   ]
  },
  {
   "cell_type": "markdown",
   "metadata": {},
   "source": [
    "# Adding a Title"
   ]
  },
  {
   "cell_type": "markdown",
   "metadata": {},
   "source": [
    "# Jupyter Notebook\n",
    "## Jupyter Notebook\n",
    "### Jupyter Notebook\n",
    "#### Jupyter Notebook\n",
    "##### Jupyter Notebook\n",
    "###### Jupyter Notebook"
   ]
  },
  {
   "cell_type": "markdown",
   "metadata": {},
   "source": [
    "# Bold writing"
   ]
  },
  {
   "cell_type": "markdown",
   "metadata": {},
   "source": [
    "I want the word **pencil** to be bold in my sentence."
   ]
  },
  {
   "cell_type": "markdown",
   "metadata": {},
   "source": [
    "# Iteric Writing"
   ]
  },
  {
   "cell_type": "markdown",
   "metadata": {},
   "source": [
    "I want the word *pencil* to be iteric in my sentence.."
   ]
  },
  {
   "cell_type": "markdown",
   "metadata": {},
   "source": [
    "# Color Markdown "
   ]
  },
  {
   "cell_type": "markdown",
   "metadata": {},
   "source": [
    "<font color='red'>I want to write my sentence in red</font>"
   ]
  },
  {
   "cell_type": "markdown",
   "metadata": {},
   "source": [
    "# Required Libraries"
   ]
  },
  {
   "cell_type": "code",
   "execution_count": 1,
   "metadata": {},
   "outputs": [],
   "source": [
    "import matplotlib.pyplot as plt\n",
    "import numpy as np"
   ]
  },
  {
   "cell_type": "markdown",
   "metadata": {},
   "source": [
    "# Fibonacci Sequence"
   ]
  },
  {
   "cell_type": "markdown",
   "metadata": {},
   "source": [
    "The Fibonacci sequence is one of the most famous formulas in mathematics.\n",
    "\n",
    "Each number in the sequence is the sum of the two numbers that precede it. So, the sequence goes: 0, 1, 1, 2, 3, 5, 8, 13, 21, 34, and so on. The mathematical equation describing it is Xn+2= Xn+1 + Xn"
   ]
  },
  {
   "cell_type": "code",
   "execution_count": 2,
   "metadata": {},
   "outputs": [],
   "source": [
    "def fibonacciBetween0Andn(n): \n",
    "\n",
    "    fibonacciArray = []\n",
    "        \n",
    "    firstFibonacci, secondFibonacci, thirdFibonacci = 0, 1, 1\n",
    "  \n",
    "    result = 0\n",
    "  \n",
    "    while (firstFibonacci <= n):  \n",
    "        result += 1\n",
    "        fibonacciArray.append(firstFibonacci)   \n",
    "        \n",
    "        firstFibonacci = secondFibonacci \n",
    "        secondFibonacci = thirdFibonacci \n",
    "        thirdFibonacci = firstFibonacci + secondFibonacci \n",
    "        \n",
    "    print(\"Fibonacci Series: {}\".format(fibonacciArray))\n",
    "\n",
    "#-------------------- Visualization -------------------- \n",
    "    \n",
    "    fibonacciArray = np.array(fibonacciArray)\n",
    "    plt.figure(figsize=(12,6))\n",
    "    \n",
    "#-------------------- Line Plot ------------------------    \n",
    "\n",
    "    plt.subplot(2,2,1) \n",
    "    plt.plot(fibonacciArray,\n",
    "         fibonacciArray,\n",
    "         color=\"r\",\n",
    "         linewidth=3,\n",
    "         linestyle=\"--\",\n",
    "         marker=\"o\",\n",
    "         markersize=12,\n",
    "         markerfacecolor=\"yellow\",\n",
    "         markeredgewidth=5,\n",
    "         markeredgecolor=\"blue\",\n",
    "         alpha=0.3) \n",
    "    \n",
    "    plt.xticks(fibonacciArray)\n",
    "    plt.yticks(fibonacciArray)\n",
    "    \n",
    "    plt.xlabel(\"Fibonacci Numbers\")\n",
    "\n",
    "    plt.ylabel(\"Fibonacci Numbers\")\n",
    "\n",
    "    plt.title(\"Line Plot\")\n",
    "\n",
    "#-------------------- Histogram bir elemanın veri setindeki frekansını bulmamıza, veri setinin dağılımını keşfetmemize yardımcı olur.------------------------      \n",
    "    \n",
    "    plt.subplot(2,2,2) \n",
    "    plt.hist(fibonacciArray,bins=12,\n",
    "         color='#008080',label=\"Numbers\") \n",
    "    \n",
    "    plt.xticks(fibonacciArray)\n",
    "    plt.yticks(fibonacciArray)\n",
    "    \n",
    "    plt.xlabel(\"Fibonacci Numbers\")\n",
    "    plt.ylabel(\"Fibonacci Numbers\")\n",
    "    plt.legend()\n",
    "    plt.title(\"Histogram\")\n",
    "    \n",
    "#-------------------- Pie Chart verilerin frekansına göre farklı büyüklüklerde pizza dilimlerine sahip olur.------------------------ \n",
    "\n",
    "    colors = ['#ff6666', '#468499', '#ff7f50', '#ffdab9', \n",
    "          '#00ced1', '#ffff66','#088da5','#daa520',\n",
    "          '#794044','#a0db8e','#b4eeb4','#c0d6e4','#065535','#d3ffce']\n",
    "    fig1, ax1 = plt.subplots(figsize=(14,7))\n",
    "\n",
    "    ax1.pie(fibonacciArray,labels=fibonacciArray,colors=colors, \n",
    "        autopct='%1.1f%%'); \n",
    "    \n",
    "    plt.show()\n",
    "    \n",
    "    return print(\"Count of Fibonacci Numbers is {}\".format(result))"
   ]
  },
  {
   "cell_type": "code",
   "execution_count": 3,
   "metadata": {
    "scrolled": false
   },
   "outputs": [
    {
     "name": "stdout",
     "output_type": "stream",
     "text": [
      "Fibonacci Series: [0, 1, 1, 2, 3, 5, 8]\n"
     ]
    },
    {
     "data": {
      "image/png": "[encoded data removed]",
      "text/plain": [
       "<Figure size 864x432 with 2 Axes>"
      ]
     },
     "metadata": {
      "needs_background": "light"
     },
     "output_type": "display_data"
    },
    {
     "data": {
      "image/png": "[encoded data removed]",
      "text/plain": [
       "<Figure size 1008x504 with 1 Axes>"
      ]
     },
     "metadata": {},
     "output_type": "display_data"
    },
    {
     "name": "stdout",
     "output_type": "stream",
     "text": [
      "Count of Fibonacci Numbers is 7\n"
     ]
    }
   ],
   "source": [
    "fibonacciBetween0Andn(10)"
   ]
  },
  {
   "cell_type": "markdown",
   "metadata": {},
   "source": [
    "# Perfect Number"
   ]
  },
  {
   "cell_type": "markdown",
   "metadata": {},
   "source": [
    "**The perfect number**, in number theory, is the sum of its positive divisors except itself.\n",
    "is the number that is equal.\n",
    "\n",
    "The smallest perfect number is 6; because 6 = 1 + 2 + 3; that is, it is the sum of all eigen factors."
   ]
  },
  {
   "cell_type": "code",
   "execution_count": 4,
   "metadata": {},
   "outputs": [],
   "source": [
    "def perfectNumberFinder(n):\n",
    "    sum1 = 0\n",
    "    for i in range(1, n):\n",
    "        if(n % i == 0):\n",
    "            sum1 = sum1 + i\n",
    "    if (sum1 == n):\n",
    "        print(\"The number is a Perfect number just like you :)\")\n",
    "    else:\n",
    "        print(\"The number is NOT a Perfect number\")"
   ]
  },
  {
   "cell_type": "code",
   "execution_count": 5,
   "metadata": {
    "scrolled": true
   },
   "outputs": [
    {
     "name": "stdout",
     "output_type": "stream",
     "text": [
      "Enter the number you want to find out if it is a Perfect Number: 10\n",
      "\n",
      "\n",
      "The number is NOT a Perfect number\n"
     ]
    }
   ],
   "source": [
    "myPerfectNumber = int(input(\"Enter the number you want to find out if it is a Perfect Number: \"))\n",
    "print(\"\\n\")\n",
    "perfectNumberFinder(myPerfectNumber)"
   ]
  },
  {
   "cell_type": "markdown",
   "metadata": {},
   "source": [
    "# Friedly Pair"
   ]
  },
  {
   "cell_type": "markdown",
   "metadata": {},
   "source": [
    "**Amicable numbers** are two different numbers related in such a way that the sum of the proper divisors of each is equal to the other number.\n",
    "\n",
    "\n",
    "Sum of positive divisors excluding 220 itself :\n",
    "\n",
    "1 + 2 + 4 + 5 + 10 + 11 + 20 + 22 + 44 + 55 + 110 = 284\n",
    "\n",
    "Sum of positive divisors excluding 284 itself : \n",
    "\n",
    "1 + 2 + 4 + 71 + 142 = 220\n"
   ]
  },
  {
   "cell_type": "code",
   "execution_count": 6,
   "metadata": {},
   "outputs": [],
   "source": [
    "def friendlyPairFinfer(firstNumber, secondNumber):\n",
    "    \n",
    "    sum1 = 0\n",
    "    sum2 = 0\n",
    "\n",
    "    for i in range(1, firstNumber):\n",
    "        if(firstNumber % i == 0):\n",
    "            sum1 = sum1 + i\n",
    "\n",
    "    for i in range(1,secondNumber):\n",
    "        if(secondNumber % i == 0):\n",
    "            sum2 = sum2 + i\n",
    "\n",
    "    if(sum1 == secondNumber and sum2 == firstNumber):\n",
    "        print(\"The number is a Friendly Pair\")\n",
    "    else:\n",
    "        print(\"The number is a NOT Friendly Pair\")"
   ]
  },
  {
   "cell_type": "code",
   "execution_count": 7,
   "metadata": {},
   "outputs": [
    {
     "name": "stdout",
     "output_type": "stream",
     "text": [
      "Enter Your First Number: 33\n",
      "Enter Your Second Number: 36\n",
      "\n",
      "\n",
      "The number is a NOT Friendly Pair\n"
     ]
    }
   ],
   "source": [
    "firstNumber = int(input(\"Enter Your First Number: \"))\n",
    "secondNumber = int(input(\"Enter Your Second Number: \"))\n",
    "print(\"\\n\")\n",
    "friendlyPairFinfer(firstNumber, secondNumber)"
   ]
  }
 ],
 "metadata": {
  "kernelspec": {
   "display_name": "Python 3",
   "language": "python",
   "name": "python3"
  },
  "language_info": {
   "codemirror_mode": {
    "name": "ipython",
    "version": 3
   },
   "file_extension": ".py",
   "mimetype": "text/x-python",
   "name": "python",
   "nbconvert_exporter": "python",
   "pygments_lexer": "ipython3",
   "version": "3.8.5"
  }
 },
 "nbformat": 4,
 "nbformat_minor": 4
}
